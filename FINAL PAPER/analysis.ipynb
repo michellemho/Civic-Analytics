{
 "cells": [
  {
   "cell_type": "code",
   "execution_count": 2,
   "metadata": {
    "collapsed": false
   },
   "outputs": [
    {
     "name": "stdout",
     "output_type": "stream",
     "text": [
      "Populating the interactive namespace from numpy and matplotlib\n"
     ]
    }
   ],
   "source": [
    "import csv\n",
    "import pandas as pd\n",
    "import numpy as np\n",
    "import pylab as pl\n",
    "import datetime as dt\n",
    "%pylab inline"
   ]
  },
  {
   "cell_type": "code",
   "execution_count": 3,
   "metadata": {
    "collapsed": false
   },
   "outputs": [],
   "source": [
    "data = pd.read_csv(\"DATA/NYPD_Motor_Vehicle_Collisions.csv\")"
   ]
  },
  {
   "cell_type": "code",
   "execution_count": 4,
   "metadata": {
    "collapsed": false
   },
   "outputs": [],
   "source": [
    "bikeAccidents = data[(data['VEHICLE TYPE CODE 1'] == 'BICYCLE') | (data['VEHICLE TYPE CODE 2'] == 'BICYCLE') | (data['VEHICLE TYPE CODE 3'] == 'BICYCLE') | (data['VEHICLE TYPE CODE 4'] == 'BICYCLE') | (data['VEHICLE TYPE CODE 5'] == 'BICYCLE')]"
   ]
  },
  {
   "cell_type": "code",
   "execution_count": 5,
   "metadata": {
    "collapsed": false
   },
   "outputs": [
    {
     "name": "stdout",
     "output_type": "stream",
     "text": [
      "18063\n",
      "711927\n"
     ]
    }
   ],
   "source": [
    "print len(bikeAccidents)\n",
    "print len(data)"
   ]
  },
  {
   "cell_type": "code",
   "execution_count": 6,
   "metadata": {
    "collapsed": false
   },
   "outputs": [
    {
     "data": {
      "text/html": [
       "<div>\n",
       "<table border=\"1\" class=\"dataframe\">\n",
       "  <thead>\n",
       "    <tr style=\"text-align: right;\">\n",
       "      <th></th>\n",
       "      <th>DATE</th>\n",
       "      <th>TIME</th>\n",
       "      <th>BOROUGH</th>\n",
       "      <th>ZIP CODE</th>\n",
       "      <th>LATITUDE</th>\n",
       "      <th>LONGITUDE</th>\n",
       "      <th>LOCATION</th>\n",
       "      <th>ON STREET NAME</th>\n",
       "      <th>CROSS STREET NAME</th>\n",
       "      <th>OFF STREET NAME</th>\n",
       "      <th>...</th>\n",
       "      <th>CONTRIBUTING FACTOR VEHICLE 2</th>\n",
       "      <th>CONTRIBUTING FACTOR VEHICLE 3</th>\n",
       "      <th>CONTRIBUTING FACTOR VEHICLE 4</th>\n",
       "      <th>CONTRIBUTING FACTOR VEHICLE 5</th>\n",
       "      <th>UNIQUE KEY</th>\n",
       "      <th>VEHICLE TYPE CODE 1</th>\n",
       "      <th>VEHICLE TYPE CODE 2</th>\n",
       "      <th>VEHICLE TYPE CODE 3</th>\n",
       "      <th>VEHICLE TYPE CODE 4</th>\n",
       "      <th>VEHICLE TYPE CODE 5</th>\n",
       "    </tr>\n",
       "  </thead>\n",
       "  <tbody>\n",
       "    <tr>\n",
       "      <th>17</th>\n",
       "      <td>12/05/2015</td>\n",
       "      <td>22:05</td>\n",
       "      <td>MANHATTAN</td>\n",
       "      <td>10016</td>\n",
       "      <td>40.745182</td>\n",
       "      <td>-73.970927</td>\n",
       "      <td>(40.7451824, -73.9709267)</td>\n",
       "      <td>EAST 37 STREET</td>\n",
       "      <td>FDR DRIVE</td>\n",
       "      <td>NaN</td>\n",
       "      <td>...</td>\n",
       "      <td>Unspecified</td>\n",
       "      <td>NaN</td>\n",
       "      <td>NaN</td>\n",
       "      <td>NaN</td>\n",
       "      <td>3347598</td>\n",
       "      <td>PASSENGER VEHICLE</td>\n",
       "      <td>BICYCLE</td>\n",
       "      <td>NaN</td>\n",
       "      <td>NaN</td>\n",
       "      <td>NaN</td>\n",
       "    </tr>\n",
       "    <tr>\n",
       "      <th>49</th>\n",
       "      <td>12/05/2015</td>\n",
       "      <td>20:55</td>\n",
       "      <td>BRONX</td>\n",
       "      <td>10456</td>\n",
       "      <td>40.833893</td>\n",
       "      <td>-73.899000</td>\n",
       "      <td>(40.8338927, -73.8990004)</td>\n",
       "      <td>EAST 170 STREET</td>\n",
       "      <td>CLINTON AVENUE</td>\n",
       "      <td>NaN</td>\n",
       "      <td>...</td>\n",
       "      <td>Unspecified</td>\n",
       "      <td>NaN</td>\n",
       "      <td>NaN</td>\n",
       "      <td>NaN</td>\n",
       "      <td>3348287</td>\n",
       "      <td>PASSENGER VEHICLE</td>\n",
       "      <td>BICYCLE</td>\n",
       "      <td>NaN</td>\n",
       "      <td>NaN</td>\n",
       "      <td>NaN</td>\n",
       "    </tr>\n",
       "    <tr>\n",
       "      <th>67</th>\n",
       "      <td>12/05/2015</td>\n",
       "      <td>20:15</td>\n",
       "      <td>MANHATTAN</td>\n",
       "      <td>10003</td>\n",
       "      <td>40.727976</td>\n",
       "      <td>-73.988119</td>\n",
       "      <td>(40.7279758, -73.988119)</td>\n",
       "      <td>EAST 7 STREET</td>\n",
       "      <td>2 AVENUE</td>\n",
       "      <td>NaN</td>\n",
       "      <td>...</td>\n",
       "      <td>Unspecified</td>\n",
       "      <td>NaN</td>\n",
       "      <td>NaN</td>\n",
       "      <td>NaN</td>\n",
       "      <td>3347571</td>\n",
       "      <td>LIVERY VEHICLE</td>\n",
       "      <td>BICYCLE</td>\n",
       "      <td>NaN</td>\n",
       "      <td>NaN</td>\n",
       "      <td>NaN</td>\n",
       "    </tr>\n",
       "    <tr>\n",
       "      <th>124</th>\n",
       "      <td>12/05/2015</td>\n",
       "      <td>19:00</td>\n",
       "      <td>MANHATTAN</td>\n",
       "      <td>10023</td>\n",
       "      <td>40.777410</td>\n",
       "      <td>-73.978798</td>\n",
       "      <td>(40.7774101, -73.9787983)</td>\n",
       "      <td>COLUMBUS AVENUE</td>\n",
       "      <td>WEST 72 STREET</td>\n",
       "      <td>NaN</td>\n",
       "      <td>...</td>\n",
       "      <td>Unspecified</td>\n",
       "      <td>NaN</td>\n",
       "      <td>NaN</td>\n",
       "      <td>NaN</td>\n",
       "      <td>3347651</td>\n",
       "      <td>TAXI</td>\n",
       "      <td>BICYCLE</td>\n",
       "      <td>NaN</td>\n",
       "      <td>NaN</td>\n",
       "      <td>NaN</td>\n",
       "    </tr>\n",
       "    <tr>\n",
       "      <th>175</th>\n",
       "      <td>12/05/2015</td>\n",
       "      <td>17:51</td>\n",
       "      <td>BRONX</td>\n",
       "      <td>10474</td>\n",
       "      <td>40.822533</td>\n",
       "      <td>-73.885086</td>\n",
       "      <td>(40.822533, -73.8850856)</td>\n",
       "      <td>BRUCKNER BOULEVARD</td>\n",
       "      <td>EDGEWATER ROAD</td>\n",
       "      <td>NaN</td>\n",
       "      <td>...</td>\n",
       "      <td>Unspecified</td>\n",
       "      <td>NaN</td>\n",
       "      <td>NaN</td>\n",
       "      <td>NaN</td>\n",
       "      <td>3347145</td>\n",
       "      <td>SPORT UTILITY / STATION WAGON</td>\n",
       "      <td>BICYCLE</td>\n",
       "      <td>NaN</td>\n",
       "      <td>NaN</td>\n",
       "      <td>NaN</td>\n",
       "    </tr>\n",
       "  </tbody>\n",
       "</table>\n",
       "<p>5 rows × 29 columns</p>\n",
       "</div>"
      ],
      "text/plain": [
       "           DATE   TIME    BOROUGH  ZIP CODE   LATITUDE  LONGITUDE  \\\n",
       "17   12/05/2015  22:05  MANHATTAN     10016  40.745182 -73.970927   \n",
       "49   12/05/2015  20:55      BRONX     10456  40.833893 -73.899000   \n",
       "67   12/05/2015  20:15  MANHATTAN     10003  40.727976 -73.988119   \n",
       "124  12/05/2015  19:00  MANHATTAN     10023  40.777410 -73.978798   \n",
       "175  12/05/2015  17:51      BRONX     10474  40.822533 -73.885086   \n",
       "\n",
       "                      LOCATION      ON STREET NAME CROSS STREET NAME  \\\n",
       "17   (40.7451824, -73.9709267)      EAST 37 STREET         FDR DRIVE   \n",
       "49   (40.8338927, -73.8990004)     EAST 170 STREET    CLINTON AVENUE   \n",
       "67    (40.7279758, -73.988119)       EAST 7 STREET          2 AVENUE   \n",
       "124  (40.7774101, -73.9787983)     COLUMBUS AVENUE    WEST 72 STREET   \n",
       "175   (40.822533, -73.8850856)  BRUCKNER BOULEVARD    EDGEWATER ROAD   \n",
       "\n",
       "    OFF STREET NAME         ...          CONTRIBUTING FACTOR VEHICLE 2  \\\n",
       "17              NaN         ...                            Unspecified   \n",
       "49              NaN         ...                            Unspecified   \n",
       "67              NaN         ...                            Unspecified   \n",
       "124             NaN         ...                            Unspecified   \n",
       "175             NaN         ...                            Unspecified   \n",
       "\n",
       "     CONTRIBUTING FACTOR VEHICLE 3  CONTRIBUTING FACTOR VEHICLE 4  \\\n",
       "17                             NaN                            NaN   \n",
       "49                             NaN                            NaN   \n",
       "67                             NaN                            NaN   \n",
       "124                            NaN                            NaN   \n",
       "175                            NaN                            NaN   \n",
       "\n",
       "     CONTRIBUTING FACTOR VEHICLE 5  UNIQUE KEY            VEHICLE TYPE CODE 1  \\\n",
       "17                             NaN     3347598              PASSENGER VEHICLE   \n",
       "49                             NaN     3348287              PASSENGER VEHICLE   \n",
       "67                             NaN     3347571                 LIVERY VEHICLE   \n",
       "124                            NaN     3347651                           TAXI   \n",
       "175                            NaN     3347145  SPORT UTILITY / STATION WAGON   \n",
       "\n",
       "     VEHICLE TYPE CODE 2  VEHICLE TYPE CODE 3 VEHICLE TYPE CODE 4  \\\n",
       "17               BICYCLE                  NaN                 NaN   \n",
       "49               BICYCLE                  NaN                 NaN   \n",
       "67               BICYCLE                  NaN                 NaN   \n",
       "124              BICYCLE                  NaN                 NaN   \n",
       "175              BICYCLE                  NaN                 NaN   \n",
       "\n",
       "    VEHICLE TYPE CODE 5  \n",
       "17                  NaN  \n",
       "49                  NaN  \n",
       "67                  NaN  \n",
       "124                 NaN  \n",
       "175                 NaN  \n",
       "\n",
       "[5 rows x 29 columns]"
      ]
     },
     "execution_count": 6,
     "metadata": {},
     "output_type": "execute_result"
    }
   ],
   "source": [
    "bikeAccidents.head()"
   ]
  },
  {
   "cell_type": "code",
   "execution_count": 7,
   "metadata": {
    "collapsed": false
   },
   "outputs": [
    {
     "name": "stdout",
     "output_type": "stream",
     "text": [
      "NUMBER OF CYCLISTS KILLED:  52\n",
      "NUMBER OF CYCLISTS INJURED:  14080\n"
     ]
    }
   ],
   "source": [
    "print \"NUMBER OF CYCLISTS KILLED: \", sum(bikeAccidents['NUMBER OF CYCLIST KILLED'])\n",
    "print \"NUMBER OF CYCLISTS INJURED: \", sum(bikeAccidents['NUMBER OF CYCLIST INJURED'])"
   ]
  },
  {
   "cell_type": "code",
   "execution_count": 8,
   "metadata": {
    "collapsed": false
   },
   "outputs": [
    {
     "name": "stderr",
     "output_type": "stream",
     "text": [
      "/Users/michelleho/anaconda/lib/python2.7/site-packages/pandas/core/generic.py:2177: SettingWithCopyWarning: \n",
      "A value is trying to be set on a copy of a slice from a DataFrame.\n",
      "Try using .loc[row_indexer,col_indexer] = value instead\n",
      "\n",
      "See the the caveats in the documentation: http://pandas.pydata.org/pandas-docs/stable/indexing.html#indexing-view-versus-copy\n",
      "  self[name] = value\n"
     ]
    }
   ],
   "source": [
    "bikeAccidents.DATE=pd.to_datetime(bikeAccidents.DATE)"
   ]
  },
  {
   "cell_type": "code",
   "execution_count": 9,
   "metadata": {
    "collapsed": false
   },
   "outputs": [
    {
     "data": {
      "text/plain": [
       "12"
      ]
     },
     "execution_count": 9,
     "metadata": {},
     "output_type": "execute_result"
    }
   ],
   "source": [
    "bikeAccidents.DATE.loc[17].month"
   ]
  },
  {
   "cell_type": "code",
   "execution_count": 10,
   "metadata": {
    "collapsed": false
   },
   "outputs": [
    {
     "data": {
      "text/plain": [
       "<matplotlib.text.Text at 0x10c08f450>"
      ]
     },
     "execution_count": 10,
     "metadata": {},
     "output_type": "execute_result"
    },
    {
     "data": {
      "image/png": "[encoded data removed]",
      "text/plain": [
       "<matplotlib.figure.Figure at 0x1037d1110>"
      ]
     },
     "metadata": {},
     "output_type": "display_data"
    }
   ],
   "source": [
    "fig = pl.figure(figsize=(20,5))\n",
    "plot(bikeAccidents.TIME.groupby(by=bikeAccidents.DATE.dt.to_period(\"M\")).agg([count_nonzero]))\n",
    "title('Total Counts of Bicycle-Involved Accidents in New York City by Month')"
   ]
  },
  {
   "cell_type": "code",
   "execution_count": 18,
   "metadata": {
    "collapsed": false
   },
   "outputs": [],
   "source": [
    "bikeAxGrouped = bikeAccidents.TIME.groupby(by=bikeAccidents.DATE.dt.to_period(\"M\")).agg([count_nonzero])"
   ]
  },
  {
   "cell_type": "code",
   "execution_count": 31,
   "metadata": {
    "collapsed": false
   },
   "outputs": [
    {
     "data": {
      "text/plain": [
       "PeriodIndex(['2012-07', '2012-08', '2012-09', '2012-10', '2012-11', '2012-12',\n",
       "             '2013-01', '2013-02', '2013-03', '2013-04', '2013-05', '2013-06',\n",
       "             '2013-07', '2013-08', '2013-09', '2013-10', '2013-11', '2013-12',\n",
       "             '2014-01', '2014-02', '2014-03', '2014-04', '2014-05', '2014-06',\n",
       "             '2014-07', '2014-08', '2014-09', '2014-10', '2014-11', '2014-12',\n",
       "             '2015-01', '2015-02', '2015-03', '2015-04', '2015-05', '2015-06',\n",
       "             '2015-07', '2015-08', '2015-09', '2015-10', '2015-11', '2015-12'],\n",
       "            dtype='int64', freq='M')"
      ]
     },
     "execution_count": 31,
     "metadata": {},
     "output_type": "execute_result"
    }
   ],
   "source": [
    "bikeAxGrouped.index"
   ]
  },
  {
   "cell_type": "code",
   "execution_count": 33,
   "metadata": {
    "collapsed": false
   },
   "outputs": [
    {
     "data": {
      "text/plain": [
       "[<matplotlib.lines.Line2D at 0x10c53af90>]"
      ]
     },
     "execution_count": 33,
     "metadata": {},
     "output_type": "execute_result"
    },
    {
     "data": {
      "image/png": "[encoded data removed]",
      "text/plain": [
       "<matplotlib.figure.Figure at 0x10c029f50>"
      ]
     },
     "metadata": {},
     "output_type": "display_data"
    }
   ],
   "source": [
    "plot(bikeAxGrouped)"
   ]
  },
  {
   "cell_type": "code",
   "execution_count": null,
   "metadata": {
    "collapsed": true
   },
   "outputs": [],
   "source": []
  }
 ],
 "metadata": {
  "kernelspec": {
   "display_name": "Python 2",
   "language": "python",
   "name": "python2"
  },
  "language_info": {
   "codemirror_mode": {
    "name": "ipython",
    "version": 2
   },
   "file_extension": ".py",
   "mimetype": "text/x-python",
   "name": "python",
   "nbconvert_exporter": "python",
   "pygments_lexer": "ipython2",
   "version": "2.7.10"
  }
 },
 "nbformat": 4,
 "nbformat_minor": 0
}
